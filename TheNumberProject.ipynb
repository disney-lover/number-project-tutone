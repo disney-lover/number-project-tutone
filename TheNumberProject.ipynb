{
 "cells": [
  {
   "cell_type": "markdown",
   "metadata": {},
   "source": [
    "# Welcome to Sofia's... "
   ]
  },
  {
   "cell_type": "markdown",
   "metadata": {},
   "source": [
    "## <h1 align=\"center\">*Choose a Number Project*</h1> "
   ]
  },
  {
   "cell_type": "markdown",
   "metadata": {},
   "source": [
    "### 1. The number I chose was 34."
   ]
  },
  {
   "cell_type": "markdown",
   "metadata": {},
   "source": [
    "There are three reasons for why I chose this number:\n",
    "* Reason 1 : 34 is an even number\n",
    "* Reason 2 : If you divide 34 by 2 you get 17, and 17 was the age my great grandfather fought in World War 2.\n",
    "* Reason 3 : 34 was my uncle's number during the time he played professional hockey (NHL)."
   ]
  },
  {
   "cell_type": "markdown",
   "metadata": {
    "collapsed": true
   },
   "source": [
    "### 2. Descriptions of the number 34 :"
   ]
  },
  {
   "cell_type": "markdown",
   "metadata": {},
   "source": [
    "* Factor Pairs : (34,1), (17,2), (2,17), (1,34)\n",
    "* Odd or Even : Even\n",
    "* Prime or Composite : Composite\n",
    "* First 10 Multiples : 1, 2 , 17 , 34"
   ]
  },
  {
   "cell_type": "markdown",
   "metadata": {},
   "source": [
    "### 3. Prime Factorization :"
   ]
  },
  {
   "cell_type": "markdown",
   "metadata": {},
   "source": [
    "### 4. Geometrical Representation :"
   ]
  },
  {
   "cell_type": "markdown",
   "metadata": {},
   "source": [
    "[This is code to display image from internet]"
   ]
  },
  {
   "cell_type": "code",
   "execution_count": 5,
   "metadata": {
    "collapsed": false
   },
   "outputs": [
    {
     "data": {
      "text/html": [
       "<img src=\"https://farm6.staticflickr.com/5592/14868728755_30302bbcc9_o.jpg\" width=\"400\" height=\"400\"/>"
      ],
      "text/plain": [
       "<IPython.core.display.Image object>"
      ]
     },
     "execution_count": 5,
     "metadata": {},
     "output_type": "execute_result"
    }
   ],
   "source": [
    "from IPython.display import Image\n",
    "from IPython.core.display import HTML\n",
    "Image(url = \"https://farm6.staticflickr.com/5592/14868728755_30302bbcc9_o.jpg\", width = 400, height = 400)"
   ]
  },
  {
   "cell_type": "markdown",
   "metadata": {},
   "source": [
    "### 5. Measurement Representation :"
   ]
  },
  {
   "cell_type": "code",
   "execution_count": 6,
   "metadata": {
    "collapsed": false,
    "scrolled": true
   },
   "outputs": [
    {
     "data": {
      "text/html": [
       "<img src=\"http://cdn.tristro.net/catalog/885/full/77590-both-sides.jpg\" width=\"600\" height=\"600\"/>"
      ],
      "text/plain": [
       "<IPython.core.display.Image object>"
      ]
     },
     "execution_count": 6,
     "metadata": {},
     "output_type": "execute_result"
    }
   ],
   "source": [
    "from IPython.display import Image\n",
    "from IPython.core.display import HTML\n",
    "Image(url = \"http://cdn.tristro.net/catalog/885/full/77590-both-sides.jpg\", width = 600, height = 600)"
   ]
  },
  {
   "cell_type": "markdown",
   "metadata": {},
   "source": [
    "### 6. A Very Complicated Pattern :"
   ]
  },
  {
   "cell_type": "markdown",
   "metadata": {},
   "source": [
    "The complicated pattern I chose is called The Fibonacci Sequence. The Fibonacci Sequence is a series of which each number (The Fibonacci number) is the sum of the 2 preceeding numbers. This means that 2 numbers are required to start a sequence. Here is the code I wrote to generate the sequence:"
   ]
  },
  {
   "cell_type": "code",
   "execution_count": 7,
   "metadata": {
    "collapsed": true
   },
   "outputs": [],
   "source": [
    "def fibonacci (num1, num2, length):\n",
    "    \n",
    "    n_minus_1 = num2\n",
    "    n_minus_2 = num1\n",
    "    print (num1)\n",
    "    print(num2)\n",
    "    for i in range (0 , length-8):\n",
    "        n = n_minus_1 + n_minus_2\n",
    "        print(n)\n",
    "        n_minus_2 = n_minus_1\n",
    "        n_minus_1 = n\n",
    "    return \"the end!\""
   ]
  },
  {
   "cell_type": "markdown",
   "metadata": {},
   "source": [
    "The code above needs 3 inputs - 2 numbers that are needed to start the sequence, and length of the sequence. "
   ]
  }
 ],
 "metadata": {
  "kernelspec": {
   "display_name": "Python 3",
   "language": "python",
   "name": "python3"
  },
  "language_info": {
   "codemirror_mode": {
    "name": "ipython",
    "version": 3
   },
   "file_extension": ".py",
   "mimetype": "text/x-python",
   "name": "python",
   "nbconvert_exporter": "python",
   "pygments_lexer": "ipython3",
   "version": "3.4.4"
  }
 },
 "nbformat": 4,
 "nbformat_minor": 1
}
